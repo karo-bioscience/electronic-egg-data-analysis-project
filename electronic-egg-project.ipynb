{
  "nbformat": 4,
  "nbformat_minor": 0,
  "metadata": {
    "colab": {
      "provenance": []
    },
    "kernelspec": {
      "name": "ir",
      "display_name": "R"
    },
    "language_info": {
      "name": "R"
    }
  },
  "cells": [
    {
      "cell_type": "code",
      "source": [
        "library(dplyr)\n",
        "library(ggplot2)"
      ],
      "metadata": {
        "id": "OuYKCmbA7ITk"
      },
      "execution_count": 208,
      "outputs": []
    },
    {
      "cell_type": "code",
      "source": [
        "# install.packages(\"car\")"
      ],
      "metadata": {
        "colab": {
          "base_uri": "https://localhost:8080/"
        },
        "id": "dKkmWu0K7rIL",
        "outputId": "1b3673d4-2900-4084-e197-ec719b9fce89"
      },
      "execution_count": 90,
      "outputs": [
        {
          "output_type": "stream",
          "name": "stderr",
          "text": [
            "Installing package into ‘/usr/local/lib/R/site-library’\n",
            "(as ‘lib’ is unspecified)\n",
            "\n"
          ]
        }
      ]
    },
    {
      "cell_type": "code",
      "source": [
        "library(car)"
      ],
      "metadata": {
        "id": "IzUj-Pwm6QDt"
      },
      "execution_count": 209,
      "outputs": []
    },
    {
      "cell_type": "code",
      "execution_count": 210,
      "metadata": {
        "id": "_0gNHiXG5I38"
      },
      "outputs": [],
      "source": [
        "jajo <- read.table(file=\"jajo.csv\", sep=\";\", header=TRUE)"
      ]
    },
    {
      "cell_type": "code",
      "source": [
        "head(jajo)"
      ],
      "metadata": {
        "colab": {
          "base_uri": "https://localhost:8080/",
          "height": 286
        },
        "id": "tvgObrRQ54md",
        "outputId": "366723e5-a5fd-4d70-aa09-81900ac3f40d"
      },
      "execution_count": 211,
      "outputs": [
        {
          "output_type": "display_data",
          "data": {
            "text/html": [
              "<table class=\"dataframe\">\n",
              "<caption>A data.frame: 6 × 7</caption>\n",
              "<thead>\n",
              "\t<tr><th></th><th scope=col>Day</th><th scope=col>Time.hh.mm.ss.</th><th scope=col>Temp1.C.</th><th scope=col>Temp2.C.</th><th scope=col>Temp3.C.</th><th scope=col>Temp4.C.</th><th scope=col>Humidity...</th></tr>\n",
              "\t<tr><th></th><th scope=col>&lt;chr&gt;</th><th scope=col>&lt;chr&gt;</th><th scope=col>&lt;chr&gt;</th><th scope=col>&lt;chr&gt;</th><th scope=col>&lt;chr&gt;</th><th scope=col>&lt;chr&gt;</th><th scope=col>&lt;chr&gt;</th></tr>\n",
              "</thead>\n",
              "<tbody>\n",
              "\t<tr><th scope=row>1</th><td>06-06-2019</td><td>07:43:52</td><td>32,20</td><td>31,60</td><td>37,00</td><td>37,90</td><td>68,00</td></tr>\n",
              "\t<tr><th scope=row>2</th><td>06-06-2019</td><td>07:48:52</td><td>32,10</td><td>31,40</td><td>35,30</td><td>37,30</td><td>67,00</td></tr>\n",
              "\t<tr><th scope=row>3</th><td>06-06-2019</td><td>07:53:52</td><td>32,40</td><td>30,90</td><td>34,80</td><td>37,50</td><td>71,00</td></tr>\n",
              "\t<tr><th scope=row>4</th><td>06-06-2019</td><td>07:58:52</td><td>32,50</td><td>30,80</td><td>34,80</td><td>37,50</td><td>71,00</td></tr>\n",
              "\t<tr><th scope=row>5</th><td>06-06-2019</td><td>08:03:52</td><td>32,70</td><td>31,10</td><td>34,60</td><td>37,30</td><td>70,00</td></tr>\n",
              "\t<tr><th scope=row>6</th><td>06-06-2019</td><td>08:08:52</td><td>32,60</td><td>30,90</td><td>34,70</td><td>37,30</td><td>68,00</td></tr>\n",
              "</tbody>\n",
              "</table>\n"
            ],
            "text/markdown": "\nA data.frame: 6 × 7\n\n| <!--/--> | Day &lt;chr&gt; | Time.hh.mm.ss. &lt;chr&gt; | Temp1.C. &lt;chr&gt; | Temp2.C. &lt;chr&gt; | Temp3.C. &lt;chr&gt; | Temp4.C. &lt;chr&gt; | Humidity... &lt;chr&gt; |\n|---|---|---|---|---|---|---|---|\n| 1 | 06-06-2019 | 07:43:52 | 32,20 | 31,60 | 37,00 | 37,90 | 68,00 |\n| 2 | 06-06-2019 | 07:48:52 | 32,10 | 31,40 | 35,30 | 37,30 | 67,00 |\n| 3 | 06-06-2019 | 07:53:52 | 32,40 | 30,90 | 34,80 | 37,50 | 71,00 |\n| 4 | 06-06-2019 | 07:58:52 | 32,50 | 30,80 | 34,80 | 37,50 | 71,00 |\n| 5 | 06-06-2019 | 08:03:52 | 32,70 | 31,10 | 34,60 | 37,30 | 70,00 |\n| 6 | 06-06-2019 | 08:08:52 | 32,60 | 30,90 | 34,70 | 37,30 | 68,00 |\n\n",
            "text/latex": "A data.frame: 6 × 7\n\\begin{tabular}{r|lllllll}\n  & Day & Time.hh.mm.ss. & Temp1.C. & Temp2.C. & Temp3.C. & Temp4.C. & Humidity...\\\\\n  & <chr> & <chr> & <chr> & <chr> & <chr> & <chr> & <chr>\\\\\n\\hline\n\t1 & 06-06-2019 & 07:43:52 & 32,20 & 31,60 & 37,00 & 37,90 & 68,00\\\\\n\t2 & 06-06-2019 & 07:48:52 & 32,10 & 31,40 & 35,30 & 37,30 & 67,00\\\\\n\t3 & 06-06-2019 & 07:53:52 & 32,40 & 30,90 & 34,80 & 37,50 & 71,00\\\\\n\t4 & 06-06-2019 & 07:58:52 & 32,50 & 30,80 & 34,80 & 37,50 & 71,00\\\\\n\t5 & 06-06-2019 & 08:03:52 & 32,70 & 31,10 & 34,60 & 37,30 & 70,00\\\\\n\t6 & 06-06-2019 & 08:08:52 & 32,60 & 30,90 & 34,70 & 37,30 & 68,00\\\\\n\\end{tabular}\n",
            "text/plain": [
              "  Day        Time.hh.mm.ss. Temp1.C. Temp2.C. Temp3.C. Temp4.C. Humidity...\n",
              "1 06-06-2019 07:43:52       32,20    31,60    37,00    37,90    68,00      \n",
              "2 06-06-2019 07:48:52       32,10    31,40    35,30    37,30    67,00      \n",
              "3 06-06-2019 07:53:52       32,40    30,90    34,80    37,50    71,00      \n",
              "4 06-06-2019 07:58:52       32,50    30,80    34,80    37,50    71,00      \n",
              "5 06-06-2019 08:03:52       32,70    31,10    34,60    37,30    70,00      \n",
              "6 06-06-2019 08:08:52       32,60    30,90    34,70    37,30    68,00      "
            ]
          },
          "metadata": {}
        }
      ]
    },
    {
      "cell_type": "code",
      "source": [
        "# Konwersja przecinków na kropki w kolumnach z temperaturą\n",
        "jajo[, c(\"Temp1.C.\", \"Temp2.C.\", \"Temp3.C.\", \"Temp4.C.\")] <- lapply(jajo[, c(\"Temp1.C.\", \"Temp2.C.\", \"Temp3.C.\", \"Temp4.C.\")], function(x) as.numeric(gsub(\",\", \".\", x)))\n",
        "# Konwersja wartości wilgotności: zamiana przecinka na kropkę i konwersja na format liczbowy\n",
        "jajo$Humidity... <- as.numeric(gsub(\",\", \".\", jajo$Humidity...))\n",
        "# Zmiana nazwy Humidity... na Humidity\n",
        "names(jajo)[names(jajo) == \"Humidity...\"] <- \"Humidity\""
      ],
      "metadata": {
        "id": "gKdDFy6w5757"
      },
      "execution_count": 212,
      "outputs": []
    },
    {
      "cell_type": "code",
      "source": [
        "head(jajo)"
      ],
      "metadata": {
        "colab": {
          "base_uri": "https://localhost:8080/",
          "height": 286
        },
        "id": "Zix9WKZ96D80",
        "outputId": "3b68c825-24ab-4940-acc6-80d8ec9f988a"
      },
      "execution_count": 213,
      "outputs": [
        {
          "output_type": "display_data",
          "data": {
            "text/html": [
              "<table class=\"dataframe\">\n",
              "<caption>A data.frame: 6 × 7</caption>\n",
              "<thead>\n",
              "\t<tr><th></th><th scope=col>Day</th><th scope=col>Time.hh.mm.ss.</th><th scope=col>Temp1.C.</th><th scope=col>Temp2.C.</th><th scope=col>Temp3.C.</th><th scope=col>Temp4.C.</th><th scope=col>Humidity</th></tr>\n",
              "\t<tr><th></th><th scope=col>&lt;chr&gt;</th><th scope=col>&lt;chr&gt;</th><th scope=col>&lt;dbl&gt;</th><th scope=col>&lt;dbl&gt;</th><th scope=col>&lt;dbl&gt;</th><th scope=col>&lt;dbl&gt;</th><th scope=col>&lt;dbl&gt;</th></tr>\n",
              "</thead>\n",
              "<tbody>\n",
              "\t<tr><th scope=row>1</th><td>06-06-2019</td><td>07:43:52</td><td>32.2</td><td>31.6</td><td>37.0</td><td>37.9</td><td>68</td></tr>\n",
              "\t<tr><th scope=row>2</th><td>06-06-2019</td><td>07:48:52</td><td>32.1</td><td>31.4</td><td>35.3</td><td>37.3</td><td>67</td></tr>\n",
              "\t<tr><th scope=row>3</th><td>06-06-2019</td><td>07:53:52</td><td>32.4</td><td>30.9</td><td>34.8</td><td>37.5</td><td>71</td></tr>\n",
              "\t<tr><th scope=row>4</th><td>06-06-2019</td><td>07:58:52</td><td>32.5</td><td>30.8</td><td>34.8</td><td>37.5</td><td>71</td></tr>\n",
              "\t<tr><th scope=row>5</th><td>06-06-2019</td><td>08:03:52</td><td>32.7</td><td>31.1</td><td>34.6</td><td>37.3</td><td>70</td></tr>\n",
              "\t<tr><th scope=row>6</th><td>06-06-2019</td><td>08:08:52</td><td>32.6</td><td>30.9</td><td>34.7</td><td>37.3</td><td>68</td></tr>\n",
              "</tbody>\n",
              "</table>\n"
            ],
            "text/markdown": "\nA data.frame: 6 × 7\n\n| <!--/--> | Day &lt;chr&gt; | Time.hh.mm.ss. &lt;chr&gt; | Temp1.C. &lt;dbl&gt; | Temp2.C. &lt;dbl&gt; | Temp3.C. &lt;dbl&gt; | Temp4.C. &lt;dbl&gt; | Humidity &lt;dbl&gt; |\n|---|---|---|---|---|---|---|---|\n| 1 | 06-06-2019 | 07:43:52 | 32.2 | 31.6 | 37.0 | 37.9 | 68 |\n| 2 | 06-06-2019 | 07:48:52 | 32.1 | 31.4 | 35.3 | 37.3 | 67 |\n| 3 | 06-06-2019 | 07:53:52 | 32.4 | 30.9 | 34.8 | 37.5 | 71 |\n| 4 | 06-06-2019 | 07:58:52 | 32.5 | 30.8 | 34.8 | 37.5 | 71 |\n| 5 | 06-06-2019 | 08:03:52 | 32.7 | 31.1 | 34.6 | 37.3 | 70 |\n| 6 | 06-06-2019 | 08:08:52 | 32.6 | 30.9 | 34.7 | 37.3 | 68 |\n\n",
            "text/latex": "A data.frame: 6 × 7\n\\begin{tabular}{r|lllllll}\n  & Day & Time.hh.mm.ss. & Temp1.C. & Temp2.C. & Temp3.C. & Temp4.C. & Humidity\\\\\n  & <chr> & <chr> & <dbl> & <dbl> & <dbl> & <dbl> & <dbl>\\\\\n\\hline\n\t1 & 06-06-2019 & 07:43:52 & 32.2 & 31.6 & 37.0 & 37.9 & 68\\\\\n\t2 & 06-06-2019 & 07:48:52 & 32.1 & 31.4 & 35.3 & 37.3 & 67\\\\\n\t3 & 06-06-2019 & 07:53:52 & 32.4 & 30.9 & 34.8 & 37.5 & 71\\\\\n\t4 & 06-06-2019 & 07:58:52 & 32.5 & 30.8 & 34.8 & 37.5 & 71\\\\\n\t5 & 06-06-2019 & 08:03:52 & 32.7 & 31.1 & 34.6 & 37.3 & 70\\\\\n\t6 & 06-06-2019 & 08:08:52 & 32.6 & 30.9 & 34.7 & 37.3 & 68\\\\\n\\end{tabular}\n",
            "text/plain": [
              "  Day        Time.hh.mm.ss. Temp1.C. Temp2.C. Temp3.C. Temp4.C. Humidity\n",
              "1 06-06-2019 07:43:52       32.2     31.6     37.0     37.9     68      \n",
              "2 06-06-2019 07:48:52       32.1     31.4     35.3     37.3     67      \n",
              "3 06-06-2019 07:53:52       32.4     30.9     34.8     37.5     71      \n",
              "4 06-06-2019 07:58:52       32.5     30.8     34.8     37.5     71      \n",
              "5 06-06-2019 08:03:52       32.7     31.1     34.6     37.3     70      \n",
              "6 06-06-2019 08:08:52       32.6     30.9     34.7     37.3     68      "
            ]
          },
          "metadata": {}
        }
      ]
    },
    {
      "cell_type": "code",
      "source": [
        "str(jajo)"
      ],
      "metadata": {
        "colab": {
          "base_uri": "https://localhost:8080/"
        },
        "id": "n-FUtxhd6HGs",
        "outputId": "b8e9605e-122a-4d95-e571-caf42de20074"
      },
      "execution_count": 214,
      "outputs": [
        {
          "output_type": "stream",
          "name": "stdout",
          "text": [
            "'data.frame':\t1596 obs. of  7 variables:\n",
            " $ Day           : chr  \"06-06-2019\" \"06-06-2019\" \"06-06-2019\" \"06-06-2019\" ...\n",
            " $ Time.hh.mm.ss.: chr  \"07:43:52\" \"07:48:52\" \"07:53:52\" \"07:58:52\" ...\n",
            " $ Temp1.C.      : num  32.2 32.1 32.4 32.5 32.7 32.6 32.6 32.6 32.5 33.8 ...\n",
            " $ Temp2.C.      : num  31.6 31.4 30.9 30.8 31.1 30.9 30.7 30.7 30.6 30.9 ...\n",
            " $ Temp3.C.      : num  37 35.3 34.8 34.8 34.6 34.7 34.6 34.6 34.6 34 ...\n",
            " $ Temp4.C.      : num  37.9 37.3 37.5 37.5 37.3 37.3 37.2 37.2 37.2 37.9 ...\n",
            " $ Humidity      : num  68 67 71 71 70 68 68 68 68 68 ...\n"
          ]
        }
      ]
    },
    {
      "cell_type": "markdown",
      "source": [
        "# ZAD 1 - Podaj jaka była dzienna temperatura inkubacji? Średnia + SD\n"
      ],
      "metadata": {
        "id": "jRn56h5K6J68"
      }
    },
    {
      "cell_type": "code",
      "source": [
        "# Obliczenie średniej temperatury dla każdego dnia\n",
        "# Używamy funkcji aggregate() do obliczenia średniej wartości każdej temperatury dla każdego dnia.\n",
        "srednie_temp <- aggregate(. ~ Day, data = jajo[, c(\"Day\", \"Temp1.C.\", \"Temp2.C.\", \"Temp3.C.\", \"Temp4.C.\")], FUN = mean)\n",
        "\n",
        "# Dodanie nowej kolumny 'Avg_Temp', która będzie zawierała średnią z wszystkich temperatur dla danego dnia.\n",
        "srednie_temp$Avg_Temp <- rowMeans(srednie_temp[, c(\"Temp1.C.\", \"Temp2.C.\", \"Temp3.C.\", \"Temp4.C.\")])"
      ],
      "metadata": {
        "id": "TSPVYtiz6JGk"
      },
      "execution_count": 215,
      "outputs": []
    },
    {
      "cell_type": "code",
      "source": [
        "srednie_temp"
      ],
      "metadata": {
        "colab": {
          "base_uri": "https://localhost:8080/",
          "height": 318
        },
        "id": "MQtgES7E8VZD",
        "outputId": "4453ef2a-6d47-40ab-fdcd-441b1defb180"
      },
      "execution_count": 216,
      "outputs": [
        {
          "output_type": "display_data",
          "data": {
            "text/html": [
              "<table class=\"dataframe\">\n",
              "<caption>A data.frame: 7 × 6</caption>\n",
              "<thead>\n",
              "\t<tr><th scope=col>Day</th><th scope=col>Temp1.C.</th><th scope=col>Temp2.C.</th><th scope=col>Temp3.C.</th><th scope=col>Temp4.C.</th><th scope=col>Avg_Temp</th></tr>\n",
              "\t<tr><th scope=col>&lt;chr&gt;</th><th scope=col>&lt;dbl&gt;</th><th scope=col>&lt;dbl&gt;</th><th scope=col>&lt;dbl&gt;</th><th scope=col>&lt;dbl&gt;</th><th scope=col>&lt;dbl&gt;</th></tr>\n",
              "</thead>\n",
              "<tbody>\n",
              "\t<tr><td>06-06-2019</td><td>35.55638</td><td>35.29060</td><td>34.38054</td><td>34.30872</td><td>34.88406</td></tr>\n",
              "\t<tr><td>07-06-2019</td><td>35.80222</td><td>34.61333</td><td>34.61289</td><td>35.85289</td><td>35.22033</td></tr>\n",
              "\t<tr><td>08-06-2019</td><td>36.15887</td><td>35.75927</td><td>35.18831</td><td>35.40927</td><td>35.62893</td></tr>\n",
              "\t<tr><td>09-06-2019</td><td>35.91535</td><td>35.85270</td><td>35.93693</td><td>36.06058</td><td>35.94139</td></tr>\n",
              "\t<tr><td>10-06-2019</td><td>36.24016</td><td>35.01967</td><td>34.95451</td><td>36.40984</td><td>35.65605</td></tr>\n",
              "\t<tr><td>11-06-2019</td><td>37.01407</td><td>35.68251</td><td>35.03156</td><td>36.67148</td><td>36.09990</td></tr>\n",
              "\t<tr><td>12-06-2019</td><td>35.41327</td><td>35.78407</td><td>37.32434</td><td>36.93584</td><td>36.36438</td></tr>\n",
              "</tbody>\n",
              "</table>\n"
            ],
            "text/markdown": "\nA data.frame: 7 × 6\n\n| Day &lt;chr&gt; | Temp1.C. &lt;dbl&gt; | Temp2.C. &lt;dbl&gt; | Temp3.C. &lt;dbl&gt; | Temp4.C. &lt;dbl&gt; | Avg_Temp &lt;dbl&gt; |\n|---|---|---|---|---|---|\n| 06-06-2019 | 35.55638 | 35.29060 | 34.38054 | 34.30872 | 34.88406 |\n| 07-06-2019 | 35.80222 | 34.61333 | 34.61289 | 35.85289 | 35.22033 |\n| 08-06-2019 | 36.15887 | 35.75927 | 35.18831 | 35.40927 | 35.62893 |\n| 09-06-2019 | 35.91535 | 35.85270 | 35.93693 | 36.06058 | 35.94139 |\n| 10-06-2019 | 36.24016 | 35.01967 | 34.95451 | 36.40984 | 35.65605 |\n| 11-06-2019 | 37.01407 | 35.68251 | 35.03156 | 36.67148 | 36.09990 |\n| 12-06-2019 | 35.41327 | 35.78407 | 37.32434 | 36.93584 | 36.36438 |\n\n",
            "text/latex": "A data.frame: 7 × 6\n\\begin{tabular}{llllll}\n Day & Temp1.C. & Temp2.C. & Temp3.C. & Temp4.C. & Avg\\_Temp\\\\\n <chr> & <dbl> & <dbl> & <dbl> & <dbl> & <dbl>\\\\\n\\hline\n\t 06-06-2019 & 35.55638 & 35.29060 & 34.38054 & 34.30872 & 34.88406\\\\\n\t 07-06-2019 & 35.80222 & 34.61333 & 34.61289 & 35.85289 & 35.22033\\\\\n\t 08-06-2019 & 36.15887 & 35.75927 & 35.18831 & 35.40927 & 35.62893\\\\\n\t 09-06-2019 & 35.91535 & 35.85270 & 35.93693 & 36.06058 & 35.94139\\\\\n\t 10-06-2019 & 36.24016 & 35.01967 & 34.95451 & 36.40984 & 35.65605\\\\\n\t 11-06-2019 & 37.01407 & 35.68251 & 35.03156 & 36.67148 & 36.09990\\\\\n\t 12-06-2019 & 35.41327 & 35.78407 & 37.32434 & 36.93584 & 36.36438\\\\\n\\end{tabular}\n",
            "text/plain": [
              "  Day        Temp1.C. Temp2.C. Temp3.C. Temp4.C. Avg_Temp\n",
              "1 06-06-2019 35.55638 35.29060 34.38054 34.30872 34.88406\n",
              "2 07-06-2019 35.80222 34.61333 34.61289 35.85289 35.22033\n",
              "3 08-06-2019 36.15887 35.75927 35.18831 35.40927 35.62893\n",
              "4 09-06-2019 35.91535 35.85270 35.93693 36.06058 35.94139\n",
              "5 10-06-2019 36.24016 35.01967 34.95451 36.40984 35.65605\n",
              "6 11-06-2019 37.01407 35.68251 35.03156 36.67148 36.09990\n",
              "7 12-06-2019 35.41327 35.78407 37.32434 36.93584 36.36438"
            ]
          },
          "metadata": {}
        }
      ]
    },
    {
      "cell_type": "code",
      "source": [
        "# Obliczenie średniego odchylenia standardowego dla każdego dnia\n",
        "# Używamy funkcji aggregate() do obliczenia odchylenia standardowego dla każdej temperatury dla każdego dnia.\n",
        "odchylenia_temp <- aggregate(. ~ Day, data = jajo[, c(\"Day\", \"Temp1.C.\", \"Temp2.C.\", \"Temp3.C.\", \"Temp4.C.\")], FUN = sd)\n",
        "\n",
        "# Dodanie nowej kolumny 'Avg_SD', która będzie zawierała średnie odchylenie standardowe dla danego dnia.\n",
        "odchylenia_temp$Avg_SD <- rowMeans(odchylenia_temp[, c(\"Temp1.C.\", \"Temp2.C.\", \"Temp3.C.\", \"Temp4.C.\")])"
      ],
      "metadata": {
        "id": "bxuyRfXo8qBl"
      },
      "execution_count": 217,
      "outputs": []
    },
    {
      "cell_type": "code",
      "source": [
        "odchylenia_temp"
      ],
      "metadata": {
        "colab": {
          "base_uri": "https://localhost:8080/",
          "height": 318
        },
        "id": "1EkAjD7w8yZD",
        "outputId": "2408794c-7a93-4209-9537-3382ea85ae09"
      },
      "execution_count": 218,
      "outputs": [
        {
          "output_type": "display_data",
          "data": {
            "text/html": [
              "<table class=\"dataframe\">\n",
              "<caption>A data.frame: 7 × 6</caption>\n",
              "<thead>\n",
              "\t<tr><th scope=col>Day</th><th scope=col>Temp1.C.</th><th scope=col>Temp2.C.</th><th scope=col>Temp3.C.</th><th scope=col>Temp4.C.</th><th scope=col>Avg_SD</th></tr>\n",
              "\t<tr><th scope=col>&lt;chr&gt;</th><th scope=col>&lt;dbl&gt;</th><th scope=col>&lt;dbl&gt;</th><th scope=col>&lt;dbl&gt;</th><th scope=col>&lt;dbl&gt;</th><th scope=col>&lt;dbl&gt;</th></tr>\n",
              "</thead>\n",
              "<tbody>\n",
              "\t<tr><td>06-06-2019</td><td>1.765561</td><td>2.431170</td><td>2.188906</td><td>2.373016</td><td>2.189663</td></tr>\n",
              "\t<tr><td>07-06-2019</td><td>2.041499</td><td>1.868082</td><td>2.127785</td><td>2.155579</td><td>2.048236</td></tr>\n",
              "\t<tr><td>08-06-2019</td><td>1.774174</td><td>1.865105</td><td>1.975084</td><td>2.194536</td><td>1.952225</td></tr>\n",
              "\t<tr><td>09-06-2019</td><td>1.717160</td><td>1.979184</td><td>1.785802</td><td>2.213571</td><td>1.923929</td></tr>\n",
              "\t<tr><td>10-06-2019</td><td>2.465721</td><td>2.147432</td><td>2.245567</td><td>1.165549</td><td>2.006067</td></tr>\n",
              "\t<tr><td>11-06-2019</td><td>1.240872</td><td>1.154942</td><td>2.777381</td><td>1.969768</td><td>1.785741</td></tr>\n",
              "\t<tr><td>12-06-2019</td><td>1.321313</td><td>1.524704</td><td>1.345967</td><td>1.466666</td><td>1.414663</td></tr>\n",
              "</tbody>\n",
              "</table>\n"
            ],
            "text/markdown": "\nA data.frame: 7 × 6\n\n| Day &lt;chr&gt; | Temp1.C. &lt;dbl&gt; | Temp2.C. &lt;dbl&gt; | Temp3.C. &lt;dbl&gt; | Temp4.C. &lt;dbl&gt; | Avg_SD &lt;dbl&gt; |\n|---|---|---|---|---|---|\n| 06-06-2019 | 1.765561 | 2.431170 | 2.188906 | 2.373016 | 2.189663 |\n| 07-06-2019 | 2.041499 | 1.868082 | 2.127785 | 2.155579 | 2.048236 |\n| 08-06-2019 | 1.774174 | 1.865105 | 1.975084 | 2.194536 | 1.952225 |\n| 09-06-2019 | 1.717160 | 1.979184 | 1.785802 | 2.213571 | 1.923929 |\n| 10-06-2019 | 2.465721 | 2.147432 | 2.245567 | 1.165549 | 2.006067 |\n| 11-06-2019 | 1.240872 | 1.154942 | 2.777381 | 1.969768 | 1.785741 |\n| 12-06-2019 | 1.321313 | 1.524704 | 1.345967 | 1.466666 | 1.414663 |\n\n",
            "text/latex": "A data.frame: 7 × 6\n\\begin{tabular}{llllll}\n Day & Temp1.C. & Temp2.C. & Temp3.C. & Temp4.C. & Avg\\_SD\\\\\n <chr> & <dbl> & <dbl> & <dbl> & <dbl> & <dbl>\\\\\n\\hline\n\t 06-06-2019 & 1.765561 & 2.431170 & 2.188906 & 2.373016 & 2.189663\\\\\n\t 07-06-2019 & 2.041499 & 1.868082 & 2.127785 & 2.155579 & 2.048236\\\\\n\t 08-06-2019 & 1.774174 & 1.865105 & 1.975084 & 2.194536 & 1.952225\\\\\n\t 09-06-2019 & 1.717160 & 1.979184 & 1.785802 & 2.213571 & 1.923929\\\\\n\t 10-06-2019 & 2.465721 & 2.147432 & 2.245567 & 1.165549 & 2.006067\\\\\n\t 11-06-2019 & 1.240872 & 1.154942 & 2.777381 & 1.969768 & 1.785741\\\\\n\t 12-06-2019 & 1.321313 & 1.524704 & 1.345967 & 1.466666 & 1.414663\\\\\n\\end{tabular}\n",
            "text/plain": [
              "  Day        Temp1.C. Temp2.C. Temp3.C. Temp4.C. Avg_SD  \n",
              "1 06-06-2019 1.765561 2.431170 2.188906 2.373016 2.189663\n",
              "2 07-06-2019 2.041499 1.868082 2.127785 2.155579 2.048236\n",
              "3 08-06-2019 1.774174 1.865105 1.975084 2.194536 1.952225\n",
              "4 09-06-2019 1.717160 1.979184 1.785802 2.213571 1.923929\n",
              "5 10-06-2019 2.465721 2.147432 2.245567 1.165549 2.006067\n",
              "6 11-06-2019 1.240872 1.154942 2.777381 1.969768 1.785741\n",
              "7 12-06-2019 1.321313 1.524704 1.345967 1.466666 1.414663"
            ]
          },
          "metadata": {}
        }
      ]
    },
    {
      "cell_type": "code",
      "source": [
        "# WYKRESY\n",
        "srednie_temp$Day <- as.Date(srednie_temp$Day, format=\"%d-%m-%Y\")\n",
        "wykres <- ggplot(data = srednie_temp, aes(x = Day, y = Avg_Temp)) +\n",
        "  geom_point() +\n",
        "  labs(title = \"Średnia temperatura dla poszczególnych dni\",\n",
        "       x = \"Dzień\",\n",
        "       y = \"Średnia temperatura (°C)\") +\n",
        "  theme_minimal() +\n",
        "  scale_x_date(date_labels = \"%d-%m-%Y\", date_breaks = \"1 day\")"
      ],
      "metadata": {
        "id": "g4DoNrAQ8-Zk"
      },
      "execution_count": 103,
      "outputs": []
    },
    {
      "cell_type": "code",
      "source": [
        "wykres"
      ],
      "metadata": {
        "colab": {
          "base_uri": "https://localhost:8080/",
          "height": 437
        },
        "id": "V_J56_5C9C_z",
        "outputId": "8d78b253-d222-4ab2-f788-abb66144aaf7"
      },
      "execution_count": 104,
      "outputs": [
        {
          "output_type": "display_data",
          "data": {
            "text/plain": [
              "plot without title"
            ],
            "image/png": "[encoded data removed]"
          },
          "metadata": {
            "image/png": {
              "width": 420,
              "height": 420
            }
          }
        }
      ]
    },
    {
      "cell_type": "code",
      "source": [
        "odchylenia_temp$Day <- as.Date(odchylenia_temp$Day, format=\"%d-%m-%Y\")\n",
        "wykres_odch <- ggplot(data = odchylenia_temp, aes(x = Day, y = Avg_SD)) +\n",
        "  geom_point() +\n",
        "  labs(title = \"Odchylenie standardowe dla poszczególnych dni\",\n",
        "       x = \"Dzień\",\n",
        "       y = \"Odchylenie standardowe\") +\n",
        "  theme_minimal() +\n",
        "  scale_x_date(date_labels = \"%d-%m-%Y\", date_breaks = \"1 day\")"
      ],
      "metadata": {
        "id": "seR5fI1G9EyD"
      },
      "execution_count": 105,
      "outputs": []
    },
    {
      "cell_type": "code",
      "source": [
        "wykres_odch"
      ],
      "metadata": {
        "colab": {
          "base_uri": "https://localhost:8080/",
          "height": 437
        },
        "id": "jn2uTAXY9IKb",
        "outputId": "2074c93c-cbe7-4253-c5d7-c0925b7163c3"
      },
      "execution_count": 106,
      "outputs": [
        {
          "output_type": "display_data",
          "data": {
            "text/plain": [
              "plot without title"
            ],
            "image/png": "[encoded data removed]"
          },
          "metadata": {
            "image/png": {
              "width": 420,
              "height": 420
            }
          }
        }
      ]
    },
    {
      "cell_type": "markdown",
      "source": [
        "# ZAD 2 - Jaka była minimalna i maksymalna temperatura inkubacji?"
      ],
      "metadata": {
        "id": "m-jeMhiw9LFl"
      }
    },
    {
      "cell_type": "code",
      "source": [
        "# Znalezienie minimalnej temperatury dla każdego dnia\n",
        "# Używamy funkcji aggregate() do znalezienia minimalnej wartości temperatury dla każdego dnia.\n",
        "min_temp <- aggregate(. ~ Day, data = jajo[, c(\"Day\", \"Temp1.C.\", \"Temp2.C.\", \"Temp3.C.\", \"Temp4.C.\")], FUN = min)\n",
        "# Dodanie nowych kolumn do ramki danych min_temp\n",
        "min_temp$Min_Temp <- apply(min_temp[, -1], 1, min)"
      ],
      "metadata": {
        "id": "IqGkIPL_9MMc"
      },
      "execution_count": 221,
      "outputs": []
    },
    {
      "cell_type": "code",
      "source": [
        "min_temp"
      ],
      "metadata": {
        "colab": {
          "base_uri": "https://localhost:8080/",
          "height": 318
        },
        "id": "OvVZLjyR9Ojz",
        "outputId": "8e6a34a9-21b9-43f3-f287-d46399ad9042"
      },
      "execution_count": 222,
      "outputs": [
        {
          "output_type": "display_data",
          "data": {
            "text/html": [
              "<table class=\"dataframe\">\n",
              "<caption>A data.frame: 7 × 6</caption>\n",
              "<thead>\n",
              "\t<tr><th scope=col>Day</th><th scope=col>Temp1.C.</th><th scope=col>Temp2.C.</th><th scope=col>Temp3.C.</th><th scope=col>Temp4.C.</th><th scope=col>Min_Temp</th></tr>\n",
              "\t<tr><th scope=col>&lt;chr&gt;</th><th scope=col>&lt;dbl&gt;</th><th scope=col>&lt;dbl&gt;</th><th scope=col>&lt;dbl&gt;</th><th scope=col>&lt;dbl&gt;</th><th scope=col>&lt;dbl&gt;</th></tr>\n",
              "</thead>\n",
              "<tbody>\n",
              "\t<tr><td>06-06-2019</td><td>32.1</td><td>30.6</td><td>30.8</td><td>30.2</td><td>30.2</td></tr>\n",
              "\t<tr><td>07-06-2019</td><td>31.0</td><td>31.5</td><td>30.5</td><td>32.2</td><td>30.5</td></tr>\n",
              "\t<tr><td>08-06-2019</td><td>32.7</td><td>31.1</td><td>31.2</td><td>29.6</td><td>29.6</td></tr>\n",
              "\t<tr><td>09-06-2019</td><td>31.8</td><td>29.1</td><td>28.6</td><td>28.2</td><td>28.2</td></tr>\n",
              "\t<tr><td>10-06-2019</td><td>31.2</td><td>31.5</td><td>31.3</td><td>31.9</td><td>31.2</td></tr>\n",
              "\t<tr><td>11-06-2019</td><td>34.1</td><td>34.1</td><td>30.8</td><td>30.9</td><td>30.8</td></tr>\n",
              "\t<tr><td>12-06-2019</td><td>33.3</td><td>32.6</td><td>33.7</td><td>33.4</td><td>32.6</td></tr>\n",
              "</tbody>\n",
              "</table>\n"
            ],
            "text/markdown": "\nA data.frame: 7 × 6\n\n| Day &lt;chr&gt; | Temp1.C. &lt;dbl&gt; | Temp2.C. &lt;dbl&gt; | Temp3.C. &lt;dbl&gt; | Temp4.C. &lt;dbl&gt; | Min_Temp &lt;dbl&gt; |\n|---|---|---|---|---|---|\n| 06-06-2019 | 32.1 | 30.6 | 30.8 | 30.2 | 30.2 |\n| 07-06-2019 | 31.0 | 31.5 | 30.5 | 32.2 | 30.5 |\n| 08-06-2019 | 32.7 | 31.1 | 31.2 | 29.6 | 29.6 |\n| 09-06-2019 | 31.8 | 29.1 | 28.6 | 28.2 | 28.2 |\n| 10-06-2019 | 31.2 | 31.5 | 31.3 | 31.9 | 31.2 |\n| 11-06-2019 | 34.1 | 34.1 | 30.8 | 30.9 | 30.8 |\n| 12-06-2019 | 33.3 | 32.6 | 33.7 | 33.4 | 32.6 |\n\n",
            "text/latex": "A data.frame: 7 × 6\n\\begin{tabular}{llllll}\n Day & Temp1.C. & Temp2.C. & Temp3.C. & Temp4.C. & Min\\_Temp\\\\\n <chr> & <dbl> & <dbl> & <dbl> & <dbl> & <dbl>\\\\\n\\hline\n\t 06-06-2019 & 32.1 & 30.6 & 30.8 & 30.2 & 30.2\\\\\n\t 07-06-2019 & 31.0 & 31.5 & 30.5 & 32.2 & 30.5\\\\\n\t 08-06-2019 & 32.7 & 31.1 & 31.2 & 29.6 & 29.6\\\\\n\t 09-06-2019 & 31.8 & 29.1 & 28.6 & 28.2 & 28.2\\\\\n\t 10-06-2019 & 31.2 & 31.5 & 31.3 & 31.9 & 31.2\\\\\n\t 11-06-2019 & 34.1 & 34.1 & 30.8 & 30.9 & 30.8\\\\\n\t 12-06-2019 & 33.3 & 32.6 & 33.7 & 33.4 & 32.6\\\\\n\\end{tabular}\n",
            "text/plain": [
              "  Day        Temp1.C. Temp2.C. Temp3.C. Temp4.C. Min_Temp\n",
              "1 06-06-2019 32.1     30.6     30.8     30.2     30.2    \n",
              "2 07-06-2019 31.0     31.5     30.5     32.2     30.5    \n",
              "3 08-06-2019 32.7     31.1     31.2     29.6     29.6    \n",
              "4 09-06-2019 31.8     29.1     28.6     28.2     28.2    \n",
              "5 10-06-2019 31.2     31.5     31.3     31.9     31.2    \n",
              "6 11-06-2019 34.1     34.1     30.8     30.9     30.8    \n",
              "7 12-06-2019 33.3     32.6     33.7     33.4     32.6    "
            ]
          },
          "metadata": {}
        }
      ]
    },
    {
      "cell_type": "code",
      "source": [
        "# Znalezienie maksymalnej temperatury dla każdego dnia\n",
        "# Używamy funkcji aggregate() do znalezienia maksymalnej wartości temperatury dla każdego dnia.\n",
        "max_temp <- aggregate(. ~ Day, data = jajo[, c(\"Day\", \"Temp1.C.\", \"Temp2.C.\", \"Temp3.C.\", \"Temp4.C.\")], FUN = max)\n",
        "\n",
        "# Dodanie nowych kolumn do ramki danych max_temp\n",
        "# Wykorzystujemy funkcję apply(), aby obliczyć maksymalną wartość dla każdego wiersza ramki danych.\n",
        "max_temp$Max_Temp <- apply(max_temp[, -1], 1, max)"
      ],
      "metadata": {
        "id": "4DlQxqH59TCM"
      },
      "execution_count": 226,
      "outputs": []
    },
    {
      "cell_type": "code",
      "source": [
        "max_temp"
      ],
      "metadata": {
        "colab": {
          "base_uri": "https://localhost:8080/",
          "height": 318
        },
        "id": "z23dMVLA9WOD",
        "outputId": "3811993b-dee2-4544-bf73-1146f655100f"
      },
      "execution_count": 227,
      "outputs": [
        {
          "output_type": "display_data",
          "data": {
            "text/html": [
              "<table class=\"dataframe\">\n",
              "<caption>A data.frame: 7 × 6</caption>\n",
              "<thead>\n",
              "\t<tr><th scope=col>Day</th><th scope=col>Temp1.C.</th><th scope=col>Temp2.C.</th><th scope=col>Temp3.C.</th><th scope=col>Temp4.C.</th><th scope=col>Max_Temp</th></tr>\n",
              "\t<tr><th scope=col>&lt;chr&gt;</th><th scope=col>&lt;dbl&gt;</th><th scope=col>&lt;dbl&gt;</th><th scope=col>&lt;dbl&gt;</th><th scope=col>&lt;dbl&gt;</th><th scope=col>&lt;dbl&gt;</th></tr>\n",
              "</thead>\n",
              "<tbody>\n",
              "\t<tr><td>06-06-2019</td><td>38.5</td><td>38.4</td><td>38.3</td><td>38.6</td><td>38.6</td></tr>\n",
              "\t<tr><td>07-06-2019</td><td>38.7</td><td>38.3</td><td>37.9</td><td>39.0</td><td>39.0</td></tr>\n",
              "\t<tr><td>08-06-2019</td><td>38.9</td><td>38.8</td><td>38.4</td><td>38.7</td><td>38.9</td></tr>\n",
              "\t<tr><td>09-06-2019</td><td>39.1</td><td>38.8</td><td>39.0</td><td>38.8</td><td>39.1</td></tr>\n",
              "\t<tr><td>10-06-2019</td><td>38.8</td><td>38.8</td><td>38.4</td><td>39.0</td><td>39.0</td></tr>\n",
              "\t<tr><td>11-06-2019</td><td>38.9</td><td>38.7</td><td>39.0</td><td>39.5</td><td>39.5</td></tr>\n",
              "\t<tr><td>12-06-2019</td><td>39.0</td><td>39.1</td><td>39.1</td><td>39.0</td><td>39.1</td></tr>\n",
              "</tbody>\n",
              "</table>\n"
            ],
            "text/markdown": "\nA data.frame: 7 × 6\n\n| Day &lt;chr&gt; | Temp1.C. &lt;dbl&gt; | Temp2.C. &lt;dbl&gt; | Temp3.C. &lt;dbl&gt; | Temp4.C. &lt;dbl&gt; | Max_Temp &lt;dbl&gt; |\n|---|---|---|---|---|---|\n| 06-06-2019 | 38.5 | 38.4 | 38.3 | 38.6 | 38.6 |\n| 07-06-2019 | 38.7 | 38.3 | 37.9 | 39.0 | 39.0 |\n| 08-06-2019 | 38.9 | 38.8 | 38.4 | 38.7 | 38.9 |\n| 09-06-2019 | 39.1 | 38.8 | 39.0 | 38.8 | 39.1 |\n| 10-06-2019 | 38.8 | 38.8 | 38.4 | 39.0 | 39.0 |\n| 11-06-2019 | 38.9 | 38.7 | 39.0 | 39.5 | 39.5 |\n| 12-06-2019 | 39.0 | 39.1 | 39.1 | 39.0 | 39.1 |\n\n",
            "text/latex": "A data.frame: 7 × 6\n\\begin{tabular}{llllll}\n Day & Temp1.C. & Temp2.C. & Temp3.C. & Temp4.C. & Max\\_Temp\\\\\n <chr> & <dbl> & <dbl> & <dbl> & <dbl> & <dbl>\\\\\n\\hline\n\t 06-06-2019 & 38.5 & 38.4 & 38.3 & 38.6 & 38.6\\\\\n\t 07-06-2019 & 38.7 & 38.3 & 37.9 & 39.0 & 39.0\\\\\n\t 08-06-2019 & 38.9 & 38.8 & 38.4 & 38.7 & 38.9\\\\\n\t 09-06-2019 & 39.1 & 38.8 & 39.0 & 38.8 & 39.1\\\\\n\t 10-06-2019 & 38.8 & 38.8 & 38.4 & 39.0 & 39.0\\\\\n\t 11-06-2019 & 38.9 & 38.7 & 39.0 & 39.5 & 39.5\\\\\n\t 12-06-2019 & 39.0 & 39.1 & 39.1 & 39.0 & 39.1\\\\\n\\end{tabular}\n",
            "text/plain": [
              "  Day        Temp1.C. Temp2.C. Temp3.C. Temp4.C. Max_Temp\n",
              "1 06-06-2019 38.5     38.4     38.3     38.6     38.6    \n",
              "2 07-06-2019 38.7     38.3     37.9     39.0     39.0    \n",
              "3 08-06-2019 38.9     38.8     38.4     38.7     38.9    \n",
              "4 09-06-2019 39.1     38.8     39.0     38.8     39.1    \n",
              "5 10-06-2019 38.8     38.8     38.4     39.0     39.0    \n",
              "6 11-06-2019 38.9     38.7     39.0     39.5     39.5    \n",
              "7 12-06-2019 39.0     39.1     39.1     39.0     39.1    "
            ]
          },
          "metadata": {}
        }
      ]
    },
    {
      "cell_type": "code",
      "source": [
        "# Tworzenie wykresu dla minimalnych temperatur\n",
        "min_plot <- ggplot(min_temp, aes(x = Day, y = Min_Temp)) +\n",
        "  geom_line(color = \"blue\") +\n",
        "  geom_point(color = \"blue\") +\n",
        "  labs(title = \"Minimalna temperatura dla każdego dnia\",\n",
        "       x = \"Dzień\",\n",
        "       y = \"Minimalna temperatura (°C)\") +\n",
        "  theme_minimal()"
      ],
      "metadata": {
        "id": "4x6wiksK9cUs"
      },
      "execution_count": 114,
      "outputs": []
    },
    {
      "cell_type": "code",
      "source": [
        "min_plot"
      ],
      "metadata": {
        "colab": {
          "base_uri": "https://localhost:8080/",
          "height": 472
        },
        "id": "hJFvKrLk9dar",
        "outputId": "7a9e382e-d042-4982-abc5-bc7f952decdb"
      },
      "execution_count": 115,
      "outputs": [
        {
          "output_type": "stream",
          "name": "stderr",
          "text": [
            "\u001b[1m\u001b[22m`geom_line()`: Each group consists of only one observation.\n",
            "\u001b[36mℹ\u001b[39m Do you need to adjust the \u001b[32mgroup\u001b[39m aesthetic?\n"
          ]
        },
        {
          "output_type": "display_data",
          "data": {
            "text/plain": [
              "plot without title"
            ],
            "image/png": "[encoded data removed]"
          },
          "metadata": {
            "image/png": {
              "width": 420,
              "height": 420
            }
          }
        }
      ]
    },
    {
      "cell_type": "code",
      "source": [
        "# Tworzenie wykresu dla maksymalnych temperatur\n",
        "max_plot <- ggplot(max_temp, aes(x = Day, y = Max_Temp)) +\n",
        "  geom_line(color = \"red\") +\n",
        "  geom_point(color = \"red\") +\n",
        "  labs(title = \"Maksymalna temperatura dla każdego dnia\",\n",
        "       x = \"Dzień\",\n",
        "       y = \"Maksymalna temperatura (°C)\") +\n",
        "  theme_minimal()"
      ],
      "metadata": {
        "id": "rYJPkR9S9fY7"
      },
      "execution_count": 116,
      "outputs": []
    },
    {
      "cell_type": "code",
      "source": [
        "max_plot"
      ],
      "metadata": {
        "colab": {
          "base_uri": "https://localhost:8080/",
          "height": 472
        },
        "id": "8Q7iCMFM9hTL",
        "outputId": "e8f29308-24eb-49d6-81ae-7d242867aaa2"
      },
      "execution_count": 117,
      "outputs": [
        {
          "output_type": "stream",
          "name": "stderr",
          "text": [
            "\u001b[1m\u001b[22m`geom_line()`: Each group consists of only one observation.\n",
            "\u001b[36mℹ\u001b[39m Do you need to adjust the \u001b[32mgroup\u001b[39m aesthetic?\n"
          ]
        },
        {
          "output_type": "display_data",
          "data": {
            "text/plain": [
              "plot without title"
            ],
            "image/png": "[encoded data removed]"
          },
          "metadata": {
            "image/png": {
              "width": 420,
              "height": 420
            }
          }
        }
      ]
    },
    {
      "cell_type": "markdown",
      "source": [
        "# ZAD 3 - Jaka była różnica temperatur zarejestrowana przez czujniki w danym pomiarze? (pomiar o tej samej godzinie i dniu) Średnia + SD\n"
      ],
      "metadata": {
        "id": "PZURYT8V9jYr"
      }
    },
    {
      "cell_type": "code",
      "source": [
        "# Obliczenie różnicy między maksymalną a minimalną temperaturą dla każdego dnia\n",
        "roznica_temp <- max_temp$Max_Temp - min_temp$Min_Temp\n",
        "roznica_temp"
      ],
      "metadata": {
        "colab": {
          "base_uri": "https://localhost:8080/",
          "height": 34
        },
        "id": "Od9fbvDS9lmL",
        "outputId": "14b3e6b1-3768-49d8-d1b4-782911172d3e"
      },
      "execution_count": 228,
      "outputs": [
        {
          "output_type": "display_data",
          "data": {
            "text/html": [
              "<style>\n",
              ".list-inline {list-style: none; margin:0; padding: 0}\n",
              ".list-inline>li {display: inline-block}\n",
              ".list-inline>li:not(:last-child)::after {content: \"\\00b7\"; padding: 0 .5ex}\n",
              "</style>\n",
              "<ol class=list-inline><li>8.4</li><li>8.5</li><li>9.3</li><li>10.9</li><li>7.8</li><li>8.7</li><li>6.5</li></ol>\n"
            ],
            "text/markdown": "1. 8.4\n2. 8.5\n3. 9.3\n4. 10.9\n5. 7.8\n6. 8.7\n7. 6.5\n\n\n",
            "text/latex": "\\begin{enumerate*}\n\\item 8.4\n\\item 8.5\n\\item 9.3\n\\item 10.9\n\\item 7.8\n\\item 8.7\n\\item 6.5\n\\end{enumerate*}\n",
            "text/plain": [
              "[1]  8.4  8.5  9.3 10.9  7.8  8.7  6.5"
            ]
          },
          "metadata": {}
        }
      ]
    },
    {
      "cell_type": "code",
      "source": [
        "# Obliczenie średniej różnicy między maksymalną a minimalną temperaturą\n",
        "srednia_roznic_temp <- mean(roznica_temp)\n",
        "srednia_roznic_temp"
      ],
      "metadata": {
        "colab": {
          "base_uri": "https://localhost:8080/",
          "height": 34
        },
        "id": "yCA-jAUZ-uJU",
        "outputId": "6f908667-eae8-4e84-d70f-7bf67df2aa6e"
      },
      "execution_count": 229,
      "outputs": [
        {
          "output_type": "display_data",
          "data": {
            "text/html": [
              "8.58571428571429"
            ],
            "text/markdown": "8.58571428571429",
            "text/latex": "8.58571428571429",
            "text/plain": [
              "[1] 8.585714"
            ]
          },
          "metadata": {}
        }
      ]
    },
    {
      "cell_type": "code",
      "source": [
        "# Obliczenie odchylenia standardowego dla różnic między maksymalną a minimalną temperaturą\n",
        "odchylenie_roznic <- sd(roznica_temp)\n",
        "odchylenie_roznic"
      ],
      "metadata": {
        "colab": {
          "base_uri": "https://localhost:8080/",
          "height": 34
        },
        "id": "EXDbE4Dh-1RU",
        "outputId": "e3030157-d64d-4068-aa94-755fc2991668"
      },
      "execution_count": 230,
      "outputs": [
        {
          "output_type": "display_data",
          "data": {
            "text/html": [
              "1.34713099020173"
            ],
            "text/markdown": "1.34713099020173",
            "text/latex": "1.34713099020173",
            "text/plain": [
              "[1] 1.347131"
            ]
          },
          "metadata": {}
        }
      ]
    },
    {
      "cell_type": "markdown",
      "source": [
        "# Czy temperatura zmieniała się na przestrzeni dni? *\n"
      ],
      "metadata": {
        "id": "1TV9BVaX_ApW"
      }
    },
    {
      "cell_type": "code",
      "source": [
        "# Test normalności Shapiro-Wilk dla zmiennej Temp1.C.\n",
        "shapiro.test(jajo$Temp1.C.)\n",
        "\n",
        "# Test normalności Shapiro-Wilk dla zmiennej Temp2.C.\n",
        "shapiro.test(jajo$Temp2.C.)\n",
        "\n",
        "# Test normalności Shapiro-Wilk dla zmiennej Temp3.C.\n",
        "shapiro.test(jajo$Temp3.C.)\n",
        "\n",
        "# Test normalności Shapiro-Wilk dla zmiennej Temp4.C.\n",
        "shapiro.test(jajo$Temp4.C.)"
      ],
      "metadata": {
        "colab": {
          "base_uri": "https://localhost:8080/",
          "height": 364
        },
        "id": "7T_ppoO1_FCL",
        "outputId": "c0d8c00e-f4a2-4ed7-ba88-a932843fa108"
      },
      "execution_count": 231,
      "outputs": [
        {
          "output_type": "display_data",
          "data": {
            "text/plain": [
              "\n",
              "\tShapiro-Wilk normality test\n",
              "\n",
              "data:  jajo$Temp1.C.\n",
              "W = 0.94743, p-value < 2.2e-16\n"
            ]
          },
          "metadata": {}
        },
        {
          "output_type": "display_data",
          "data": {
            "text/plain": [
              "\n",
              "\tShapiro-Wilk normality test\n",
              "\n",
              "data:  jajo$Temp2.C.\n",
              "W = 0.96971, p-value < 2.2e-16\n"
            ]
          },
          "metadata": {}
        },
        {
          "output_type": "display_data",
          "data": {
            "text/plain": [
              "\n",
              "\tShapiro-Wilk normality test\n",
              "\n",
              "data:  jajo$Temp3.C.\n",
              "W = 0.94375, p-value < 2.2e-16\n"
            ]
          },
          "metadata": {}
        },
        {
          "output_type": "display_data",
          "data": {
            "text/plain": [
              "\n",
              "\tShapiro-Wilk normality test\n",
              "\n",
              "data:  jajo$Temp4.C.\n",
              "W = 0.95427, p-value < 2.2e-16\n"
            ]
          },
          "metadata": {}
        }
      ]
    },
    {
      "cell_type": "markdown",
      "source": [
        "przyjmujemy, że mamy alfe 0.05, czyli p-value < 0.05 => odrzucamy H0 na rzecz H1, czyli dane nie pochodzą z rozkładu normalnego\n",
        "\n",
        "\n",
        "czyyyli, korzystamy z tego drugiego testu"
      ],
      "metadata": {
        "id": "Md3MMZ3h_r4V"
      }
    },
    {
      "cell_type": "markdown",
      "source": [
        "Hipoteza zerowa (H0): Średnie temperatury nie różnią się istotnie pomiędzy poszczególnymi dniami.\n",
        "\n",
        "Hipoteza alternatywna (H1): Co najmniej jedna z grup dni ma istotnie różne średnie temperatury od pozostałych dni."
      ],
      "metadata": {
        "id": "SUmSYJ4XTRME"
      }
    },
    {
      "cell_type": "code",
      "source": [
        "# Test Kruskala-Wallisa dla zmiennej Temp1.C. w zależności od dnia\n",
        "kruskal.test(Temp1.C. ~ Day, data = jajo)\n",
        "\n",
        "# Test Kruskala-Wallisa dla zmiennej Temp2.C. w zależności od dnia\n",
        "kruskal.test(Temp2.C. ~ Day, data = jajo)\n",
        "\n",
        "# Test Kruskala-Wallisa dla zmiennej Temp3.C. w zależności od dnia\n",
        "kruskal.test(Temp3.C. ~ Day, data = jajo)\n",
        "\n",
        "# Test Kruskala-Wallisa dla zmiennej Temp4.C. w zależności od dnia\n",
        "kruskal.test(Temp4.C. ~ Day, data = jajo)"
      ],
      "metadata": {
        "colab": {
          "base_uri": "https://localhost:8080/",
          "height": 364
        },
        "id": "0B1FoCVSLa87",
        "outputId": "52a8f49a-ac08-4b96-c921-6ed3a77596db"
      },
      "execution_count": 232,
      "outputs": [
        {
          "output_type": "display_data",
          "data": {
            "text/plain": [
              "\n",
              "\tKruskal-Wallis rank sum test\n",
              "\n",
              "data:  Temp1.C. by Day\n",
              "Kruskal-Wallis chi-squared = 146.9, df = 6, p-value < 2.2e-16\n"
            ]
          },
          "metadata": {}
        },
        {
          "output_type": "display_data",
          "data": {
            "text/plain": [
              "\n",
              "\tKruskal-Wallis rank sum test\n",
              "\n",
              "data:  Temp2.C. by Day\n",
              "Kruskal-Wallis chi-squared = 87.25, df = 6, p-value < 2.2e-16\n"
            ]
          },
          "metadata": {}
        },
        {
          "output_type": "display_data",
          "data": {
            "text/plain": [
              "\n",
              "\tKruskal-Wallis rank sum test\n",
              "\n",
              "data:  Temp3.C. by Day\n",
              "Kruskal-Wallis chi-squared = 261.04, df = 6, p-value < 2.2e-16\n"
            ]
          },
          "metadata": {}
        },
        {
          "output_type": "display_data",
          "data": {
            "text/plain": [
              "\n",
              "\tKruskal-Wallis rank sum test\n",
              "\n",
              "data:  Temp4.C. by Day\n",
              "Kruskal-Wallis chi-squared = 175.05, df = 6, p-value < 2.2e-16\n"
            ]
          },
          "metadata": {}
        }
      ]
    },
    {
      "cell_type": "code",
      "source": [
        "# install.packages(\"PMCMR\")"
      ],
      "metadata": {
        "colab": {
          "base_uri": "https://localhost:8080/"
        },
        "id": "JjgWHSAxc6U8",
        "outputId": "6a5f644b-96ed-4f77-b13f-fe0cc14d51fd"
      },
      "execution_count": 179,
      "outputs": [
        {
          "output_type": "stream",
          "name": "stderr",
          "text": [
            "Installing package into ‘/usr/local/lib/R/site-library’\n",
            "(as ‘lib’ is unspecified)\n",
            "\n"
          ]
        }
      ]
    },
    {
      "cell_type": "code",
      "source": [
        "library(PMCMR)"
      ],
      "metadata": {
        "id": "ifDb6WlRc5K1"
      },
      "execution_count": 233,
      "outputs": []
    },
    {
      "cell_type": "code",
      "source": [
        "# Przeprowadzenie testu Wilcoxona dla porównań między dniami dla zmiennej Temp1.C. z korektą metody p-value\n",
        "pairwise.wilcox.test(jajo$Temp1.C., jajo$Day, p.adjust.method = \"bonferroni\")\n",
        "\n",
        "# Przeprowadzenie testu Wilcoxona dla porównań między dniami dla zmiennej Temp2.C. z korektą metody p-value\n",
        "pairwise.wilcox.test(jajo$Temp2.C., jajo$Day, p.adjust.method = \"bonferroni\")\n",
        "\n",
        "# Przeprowadzenie testu Wilcoxona dla porównań między dniami dla zmiennej Temp3.C. z korektą metody p-value\n",
        "pairwise.wilcox.test(jajo$Temp3.C., jajo$Day, p.adjust.method = \"bonferroni\")\n",
        "\n",
        "# Przeprowadzenie testu Wilcoxona dla porównań między dniami dla zmiennej Temp4.C. z korektą metody p-value\n",
        "pairwise.wilcox.test(jajo$Temp4.C., jajo$Day, p.adjust.method = \"bonferroni\")"
      ],
      "metadata": {
        "colab": {
          "base_uri": "https://localhost:8080/",
          "height": 989
        },
        "id": "pEJF93aHc-zN",
        "outputId": "8ba0c73f-3d1c-4722-9973-79cd6a30bdf4"
      },
      "execution_count": 235,
      "outputs": [
        {
          "output_type": "display_data",
          "data": {
            "text/plain": [
              "\n",
              "\tPairwise comparisons using Wilcoxon rank sum test with continuity correction \n",
              "\n",
              "data:  jajo$Temp1.C. and jajo$Day \n",
              "\n",
              "           06-06-2019 07-06-2019 08-06-2019 09-06-2019 10-06-2019 11-06-2019\n",
              "07-06-2019 1.00000    -          -          -          -          -         \n",
              "08-06-2019 0.00693    1.00000    -          -          -          -         \n",
              "09-06-2019 1.00000    1.00000    1.00000    -          -          -         \n",
              "10-06-2019 1.8e-05    0.00169    0.58027    0.01426    -          -         \n",
              "11-06-2019 < 2e-16    2.1e-11    3.7e-07    9.8e-13    1.00000    -         \n",
              "12-06-2019 1.00000    0.03038    0.00058    0.04066    1.9e-08    < 2e-16   \n",
              "\n",
              "P value adjustment method: bonferroni "
            ]
          },
          "metadata": {}
        },
        {
          "output_type": "display_data",
          "data": {
            "text/plain": [
              "\n",
              "\tPairwise comparisons using Wilcoxon rank sum test with continuity correction \n",
              "\n",
              "data:  jajo$Temp2.C. and jajo$Day \n",
              "\n",
              "           06-06-2019 07-06-2019 08-06-2019 09-06-2019 10-06-2019 11-06-2019\n",
              "07-06-2019 0.18727    -          -          -          -          -         \n",
              "08-06-2019 1.00000    2.8e-09    -          -          -          -         \n",
              "09-06-2019 0.49814    4.7e-10    1.00000    -          -          -         \n",
              "10-06-2019 1.00000    1.00000    0.00172    0.00024    -          -         \n",
              "11-06-2019 1.00000    1.6e-15    1.00000    0.53578    0.00020    -         \n",
              "12-06-2019 1.00000    3.7e-12    1.00000    1.00000    0.00038    1.00000   \n",
              "\n",
              "P value adjustment method: bonferroni "
            ]
          },
          "metadata": {}
        },
        {
          "output_type": "display_data",
          "data": {
            "text/plain": [
              "\n",
              "\tPairwise comparisons using Wilcoxon rank sum test with continuity correction \n",
              "\n",
              "data:  jajo$Temp3.C. and jajo$Day \n",
              "\n",
              "           06-06-2019 07-06-2019 08-06-2019 09-06-2019 10-06-2019 11-06-2019\n",
              "07-06-2019 1.00000    -          -          -          -          -         \n",
              "08-06-2019 0.00490    0.07437    -          -          -          -         \n",
              "09-06-2019 1.4e-10    3.2e-09    0.00017    -          -          -         \n",
              "10-06-2019 0.32387    1.00000    1.00000    0.00021    -          -         \n",
              "11-06-2019 0.23701    0.41269    1.00000    0.17732    1.00000    -         \n",
              "12-06-2019 < 2e-16    < 2e-16    < 2e-16    < 2e-16    < 2e-16    < 2e-16   \n",
              "\n",
              "P value adjustment method: bonferroni "
            ]
          },
          "metadata": {}
        },
        {
          "output_type": "display_data",
          "data": {
            "text/plain": [
              "\n",
              "\tPairwise comparisons using Wilcoxon rank sum test with continuity correction \n",
              "\n",
              "data:  jajo$Temp4.C. and jajo$Day \n",
              "\n",
              "           06-06-2019 07-06-2019 08-06-2019 09-06-2019 10-06-2019 11-06-2019\n",
              "07-06-2019 3.1e-08    -          -          -          -          -         \n",
              "08-06-2019 0.00017    0.41806    -          -          -          -         \n",
              "09-06-2019 2.6e-11    1.00000    0.00569    -          -          -         \n",
              "10-06-2019 1.1e-15    0.22717    5.2e-05    1.00000    -          -         \n",
              "11-06-2019 < 2e-16    2.7e-05    4.2e-11    0.00274    0.06188    -         \n",
              "12-06-2019 < 2e-16    9.0e-07    9.6e-15    0.00016    0.00028    1.00000   \n",
              "\n",
              "P value adjustment method: bonferroni "
            ]
          },
          "metadata": {}
        }
      ]
    },
    {
      "cell_type": "markdown",
      "source": [
        "# Czy temperatura zmieniała się na przestrzeni dnia? *"
      ],
      "metadata": {
        "id": "ndny174OOtHs"
      }
    },
    {
      "cell_type": "code",
      "source": [
        "# Dodanie nowej kolumny \"Hour\", która zawiera godzinę jako liczbę\n",
        "jajo <- jajo %>%\n",
        "  mutate(Hour = as.numeric(substr(Time.hh.mm.ss., 1, 2)),\n",
        "\n",
        "# Dodanie nowej kolumny \"Time_Category\", która kategoryzuje godzinę na podstawie przedziałów\n",
        "         Time_Category = case_when(\n",
        "           Hour >= 0 & Hour < 6 ~ \"Noc\",            # Przedział 00:00 - 05:59\n",
        "           Hour >= 6 & Hour < 12 ~ \"Poranek\",       # Przedział 06:00 - 11:59\n",
        "           Hour >= 12 & Hour < 18 ~ \"Popołudnie\",   # Przedział 12:00 - 17:59\n",
        "           Hour >= 18 ~ \"Wieczór\"                  # Przedział od 18:00\n",
        "         ))"
      ],
      "metadata": {
        "id": "9AIu963VmB3n"
      },
      "execution_count": 236,
      "outputs": []
    },
    {
      "cell_type": "code",
      "source": [
        "table(jajo$Time_Category)"
      ],
      "metadata": {
        "colab": {
          "base_uri": "https://localhost:8080/",
          "height": 69
        },
        "id": "kh_rwiE7mcgU",
        "outputId": "669fa50c-d74e-4edc-84a9-9fe1d64152dc"
      },
      "execution_count": 237,
      "outputs": [
        {
          "output_type": "display_data",
          "data": {
            "text/plain": [
              "\n",
              "       Noc Popołudnie    Poranek    Wieczór \n",
              "       408        337        369        482 "
            ]
          },
          "metadata": {}
        }
      ]
    },
    {
      "cell_type": "code",
      "source": [
        "# Test normalności dla każdej kategorii pór dnia\n",
        "shapiro_results <- lapply(split(jajo[, c(\"Temp1.C.\", \"Temp2.C.\", \"Temp3.C.\", \"Temp4.C.\")], jajo$Time_Category), function(x) {\n",
        "  lapply(x, shapiro.test)\n",
        "})\n",
        "\n",
        "# Sprawdzenie wyników testu Shapiro-Wilka dla każdej kategorii pór dnia\n",
        "print(shapiro_results)"
      ],
      "metadata": {
        "colab": {
          "base_uri": "https://localhost:8080/"
        },
        "id": "KvC7B2cyno0M",
        "outputId": "f8584f0e-0fd7-45ab-bbfb-747065ee985a"
      },
      "execution_count": 239,
      "outputs": [
        {
          "output_type": "stream",
          "name": "stdout",
          "text": [
            "$Noc\n",
            "$Noc$Temp1.C.\n",
            "\n",
            "\tShapiro-Wilk normality test\n",
            "\n",
            "data:  X[[i]]\n",
            "W = 0.86765, p-value < 2.2e-16\n",
            "\n",
            "\n",
            "$Noc$Temp2.C.\n",
            "\n",
            "\tShapiro-Wilk normality test\n",
            "\n",
            "data:  X[[i]]\n",
            "W = 0.96261, p-value = 1.101e-08\n",
            "\n",
            "\n",
            "$Noc$Temp3.C.\n",
            "\n",
            "\tShapiro-Wilk normality test\n",
            "\n",
            "data:  X[[i]]\n",
            "W = 0.90422, p-value = 2.337e-15\n",
            "\n",
            "\n",
            "$Noc$Temp4.C.\n",
            "\n",
            "\tShapiro-Wilk normality test\n",
            "\n",
            "data:  X[[i]]\n",
            "W = 0.93273, p-value = 1.338e-12\n",
            "\n",
            "\n",
            "\n",
            "$Popołudnie\n",
            "$Popołudnie$Temp1.C.\n",
            "\n",
            "\tShapiro-Wilk normality test\n",
            "\n",
            "data:  X[[i]]\n",
            "W = 0.92946, p-value = 1.563e-11\n",
            "\n",
            "\n",
            "$Popołudnie$Temp2.C.\n",
            "\n",
            "\tShapiro-Wilk normality test\n",
            "\n",
            "data:  X[[i]]\n",
            "W = 0.93846, p-value = 1.321e-10\n",
            "\n",
            "\n",
            "$Popołudnie$Temp3.C.\n",
            "\n",
            "\tShapiro-Wilk normality test\n",
            "\n",
            "data:  X[[i]]\n",
            "W = 0.93582, p-value = 6.938e-11\n",
            "\n",
            "\n",
            "$Popołudnie$Temp4.C.\n",
            "\n",
            "\tShapiro-Wilk normality test\n",
            "\n",
            "data:  X[[i]]\n",
            "W = 0.94057, p-value = 2.245e-10\n",
            "\n",
            "\n",
            "\n",
            "$Poranek\n",
            "$Poranek$Temp1.C.\n",
            "\n",
            "\tShapiro-Wilk normality test\n",
            "\n",
            "data:  X[[i]]\n",
            "W = 0.9399, p-value = 4.554e-11\n",
            "\n",
            "\n",
            "$Poranek$Temp2.C.\n",
            "\n",
            "\tShapiro-Wilk normality test\n",
            "\n",
            "data:  X[[i]]\n",
            "W = 0.96057, p-value = 2.103e-08\n",
            "\n",
            "\n",
            "$Poranek$Temp3.C.\n",
            "\n",
            "\tShapiro-Wilk normality test\n",
            "\n",
            "data:  X[[i]]\n",
            "W = 0.91341, p-value = 1.016e-13\n",
            "\n",
            "\n",
            "$Poranek$Temp4.C.\n",
            "\n",
            "\tShapiro-Wilk normality test\n",
            "\n",
            "data:  X[[i]]\n",
            "W = 0.95105, p-value = 1.022e-09\n",
            "\n",
            "\n",
            "\n",
            "$Wieczór\n",
            "$Wieczór$Temp1.C.\n",
            "\n",
            "\tShapiro-Wilk normality test\n",
            "\n",
            "data:  X[[i]]\n",
            "W = 0.92704, p-value = 1.466e-14\n",
            "\n",
            "\n",
            "$Wieczór$Temp2.C.\n",
            "\n",
            "\tShapiro-Wilk normality test\n",
            "\n",
            "data:  X[[i]]\n",
            "W = 0.94704, p-value = 4.178e-12\n",
            "\n",
            "\n",
            "$Wieczór$Temp3.C.\n",
            "\n",
            "\tShapiro-Wilk normality test\n",
            "\n",
            "data:  X[[i]]\n",
            "W = 0.95369, p-value = 3.739e-11\n",
            "\n",
            "\n",
            "$Wieczór$Temp4.C.\n",
            "\n",
            "\tShapiro-Wilk normality test\n",
            "\n",
            "data:  X[[i]]\n",
            "W = 0.93854, p-value = 3.245e-13\n",
            "\n",
            "\n",
            "\n"
          ]
        }
      ]
    },
    {
      "cell_type": "code",
      "source": [
        "# Przeprowadzenie testu Kruskala-Wallisa dla zmiennych temperaturowych w zależności od kategorii pór dnia\n",
        "kruskal_test <- kruskal.test(list(Temp1.C. = jajo$Temp1.C.,\n",
        "                                   Temp2.C. = jajo$Temp2.C.,\n",
        "                                   Temp3.C. = jajo$Temp3.C.,\n",
        "                                   Temp4.C. = jajo$Temp4.C.),\n",
        "                              jajo$Time_Category)\n",
        "\n",
        "# Wyświetlenie wyników testu Kruskala-Wallisa\n",
        "kruskal_test"
      ],
      "metadata": {
        "colab": {
          "base_uri": "https://localhost:8080/",
          "height": 139
        },
        "id": "8Lpsici0oBW0",
        "outputId": "1254f899-cfbb-4421-b7f2-935199801c4b"
      },
      "execution_count": 241,
      "outputs": [
        {
          "output_type": "stream",
          "name": "stderr",
          "text": [
            "Warning message in kruskal.test.default(list(Temp1.C. = jajo$Temp1.C., Temp2.C. = jajo$Temp2.C., :\n",
            "“'x' is a list, so ignoring argument 'g'”\n"
          ]
        },
        {
          "output_type": "display_data",
          "data": {
            "text/plain": [
              "\n",
              "\tKruskal-Wallis rank sum test\n",
              "\n",
              "data:  list(Temp1.C. = jajo$Temp1.C., Temp2.C. = jajo$Temp2.C., Temp3.C. = jajo$Temp3.C., Temp4.C. = jajo$Temp4.C.)\n",
              "Kruskal-Wallis chi-squared = 152.15, df = 3, p-value < 2.2e-16\n"
            ]
          },
          "metadata": {}
        }
      ]
    },
    {
      "cell_type": "code",
      "source": [
        "# Jeśli test Kruskala-Wallisa wykazał istotne różnice (p-value < 0.05)\n",
        "if (kruskal_test$p.value < 0.05) {\n",
        "  # Przeprowadzenie testu post-hoc Wilcoxona\n",
        "  pairwise_test <- pairwise.wilcox.test(jajo$Temp1.C., jajo$Time_Category, p.adjust.method = \"bonferroni\")\n",
        "\n",
        "  # Wyświetlenie wyników testu post-hoc\n",
        "  print(pairwise_test)\n",
        "} else {\n",
        "  # Wyświetlenie komunikatu o braku istotnych różnic między grupami\n",
        "  print(\"Brak istotnych różnic między grupami.\")\n",
        "}"
      ],
      "metadata": {
        "colab": {
          "base_uri": "https://localhost:8080/"
        },
        "id": "42B_eiUIowP0",
        "outputId": "d21ece25-1b66-4b14-a2ce-bcc06b29d961"
      },
      "execution_count": 242,
      "outputs": [
        {
          "output_type": "stream",
          "name": "stdout",
          "text": [
            "\n",
            "\tPairwise comparisons using Wilcoxon rank sum test with continuity correction \n",
            "\n",
            "data:  jajo$Temp1.C. and jajo$Time_Category \n",
            "\n",
            "           Noc     Popołudnie Poranek\n",
            "Popołudnie 0.95    -          -      \n",
            "Poranek    1.0e-10 3.3e-08    -      \n",
            "Wieczór    1.00    1.00       5.6e-10\n",
            "\n",
            "P value adjustment method: bonferroni \n"
          ]
        }
      ]
    },
    {
      "cell_type": "code",
      "source": [
        "# Jeśli test Kruskala-Wallisa wykazał istotne różnice (p-value < 0.05)\n",
        "if (kruskal_test$p.value < 0.05) {\n",
        "  # Przeprowadzenie testu post-hoc\n",
        "  pairwise_test <- pairwise.wilcox.test(jajo$Temp2.C., jajo$Time_Category, p.adjust.method = \"bonferroni\")\n",
        "\n",
        "  # Wyświetlenie wyników testu post-hoc\n",
        "  print(pairwise_test)\n",
        "} else {\n",
        "  # Wyświetlenie komunikatu o braku istotnych różnic między grupami\n",
        "  print(\"Brak istotnych różnic między grupami.\")\n",
        "}"
      ],
      "metadata": {
        "colab": {
          "base_uri": "https://localhost:8080/"
        },
        "id": "qfWe2zlOqLPs",
        "outputId": "bc900b92-ec50-4ac9-b59b-4f5d12cd1f69"
      },
      "execution_count": 244,
      "outputs": [
        {
          "output_type": "stream",
          "name": "stdout",
          "text": [
            "\n",
            "\tPairwise comparisons using Wilcoxon rank sum test with continuity correction \n",
            "\n",
            "data:  jajo$Temp2.C. and jajo$Time_Category \n",
            "\n",
            "           Noc     Popołudnie Poranek\n",
            "Popołudnie < 2e-16 -          -      \n",
            "Poranek    < 2e-16 6.1e-09    -      \n",
            "Wieczór    < 2e-16 0.099      9.5e-06\n",
            "\n",
            "P value adjustment method: bonferroni \n"
          ]
        }
      ]
    },
    {
      "cell_type": "code",
      "source": [
        "# Jeśli test Kruskala-Wallisa wykazał istotne różnice (p-value < 0.05)\n",
        "if (kruskal_test$p.value < 0.05) {\n",
        "  # Przeprowadzenie testu post-hoc\n",
        "  pairwise_test <- pairwise.wilcox.test(jajo$Temp3.C., jajo$Time_Category, p.adjust.method = \"bonferroni\")\n",
        "\n",
        "  # Wyświetlenie wyników testu post-hoc\n",
        "  print(pairwise_test)\n",
        "} else {\n",
        "  # Wyświetlenie komunikatu o braku istotnych różnic między grupami\n",
        "  print(\"Brak istotnych różnic między grupami.\")\n",
        "}"
      ],
      "metadata": {
        "colab": {
          "base_uri": "https://localhost:8080/"
        },
        "id": "-gcTVLbIqNu8",
        "outputId": "8c704579-40eb-44ca-b3cf-c9113793aff7"
      },
      "execution_count": 245,
      "outputs": [
        {
          "output_type": "stream",
          "name": "stdout",
          "text": [
            "\n",
            "\tPairwise comparisons using Wilcoxon rank sum test with continuity correction \n",
            "\n",
            "data:  jajo$Temp3.C. and jajo$Time_Category \n",
            "\n",
            "           Noc     Popołudnie Poranek\n",
            "Popołudnie < 2e-16 -          -      \n",
            "Poranek    < 2e-16 0.33936    -      \n",
            "Wieczór    < 2e-16 0.00018    0.09597\n",
            "\n",
            "P value adjustment method: bonferroni \n"
          ]
        }
      ]
    },
    {
      "cell_type": "code",
      "source": [
        "# Jeśli test Kruskala-Wallisa wykazał istotne różnice (p-value < 0.05)\n",
        "if (kruskal_test$p.value < 0.05) {\n",
        "  # Przeprowadzenie testu post-hoc\n",
        "  pairwise_test <- pairwise.wilcox.test(jajo$Temp4.C., jajo$Time_Category, p.adjust.method = \"bonferroni\")\n",
        "\n",
        "  # Wyświetlenie wyników testu post-hoc\n",
        "  print(pairwise_test)\n",
        "} else {\n",
        "  # Wyświetlenie komunikatu o braku istotnych różnic między grupami\n",
        "  print(\"Brak istotnych różnic między grupami.\")\n",
        "}"
      ],
      "metadata": {
        "colab": {
          "base_uri": "https://localhost:8080/"
        },
        "id": "WlaD5EdoqPok",
        "outputId": "66a3733e-ff22-4fa0-c5eb-39d73aa6abad"
      },
      "execution_count": 246,
      "outputs": [
        {
          "output_type": "stream",
          "name": "stdout",
          "text": [
            "\n",
            "\tPairwise comparisons using Wilcoxon rank sum test with continuity correction \n",
            "\n",
            "data:  jajo$Temp4.C. and jajo$Time_Category \n",
            "\n",
            "           Noc     Popołudnie Poranek\n",
            "Popołudnie 1.00000 -          -      \n",
            "Poranek    0.00100 0.00863    -      \n",
            "Wieczór    0.00013 0.00117    1.00000\n",
            "\n",
            "P value adjustment method: bonferroni \n"
          ]
        }
      ]
    },
    {
      "cell_type": "markdown",
      "source": [
        "# Jaka była wilgotność podczas inkubacji? Średnia + SD"
      ],
      "metadata": {
        "id": "g_Fv_AASOvU0"
      }
    },
    {
      "cell_type": "code",
      "source": [
        "# Wybierz tylko kolumny dotyczące daty i wilgotności\n",
        "wilgotnosc <- jajo[, c(\"Day\", \"Humidity\")]"
      ],
      "metadata": {
        "id": "dlK_z-itO5Fc"
      },
      "execution_count": 149,
      "outputs": []
    },
    {
      "cell_type": "code",
      "source": [
        "# Oblicz średnią wilgotność dla każdego dnia\n",
        "srednia_wilgotnosc <- wilgotnosc %>%\n",
        "  group_by(Day) %>%\n",
        "  summarise(Mean_Humidity = mean(Humidity, na.rm = TRUE))\n",
        "\n",
        "# Wyświetl wyniki\n",
        "srednia_wilgotnosc"
      ],
      "metadata": {
        "colab": {
          "base_uri": "https://localhost:8080/",
          "height": 318
        },
        "id": "rnsCOvI0O9hd",
        "outputId": "b03adcb9-42dc-4121-bac2-443801cb48a7"
      },
      "execution_count": 247,
      "outputs": [
        {
          "output_type": "display_data",
          "data": {
            "text/html": [
              "<table class=\"dataframe\">\n",
              "<caption>A tibble: 7 × 2</caption>\n",
              "<thead>\n",
              "\t<tr><th scope=col>Day</th><th scope=col>Mean_Humidity</th></tr>\n",
              "\t<tr><th scope=col>&lt;chr&gt;</th><th scope=col>&lt;dbl&gt;</th></tr>\n",
              "</thead>\n",
              "<tbody>\n",
              "\t<tr><td>06-06-2019</td><td>59.10067</td></tr>\n",
              "\t<tr><td>07-06-2019</td><td>59.00000</td></tr>\n",
              "\t<tr><td>08-06-2019</td><td>55.98387</td></tr>\n",
              "\t<tr><td>09-06-2019</td><td>55.22407</td></tr>\n",
              "\t<tr><td>10-06-2019</td><td>62.41393</td></tr>\n",
              "\t<tr><td>11-06-2019</td><td>65.99240</td></tr>\n",
              "\t<tr><td>12-06-2019</td><td>61.80531</td></tr>\n",
              "</tbody>\n",
              "</table>\n"
            ],
            "text/markdown": "\nA tibble: 7 × 2\n\n| Day &lt;chr&gt; | Mean_Humidity &lt;dbl&gt; |\n|---|---|\n| 06-06-2019 | 59.10067 |\n| 07-06-2019 | 59.00000 |\n| 08-06-2019 | 55.98387 |\n| 09-06-2019 | 55.22407 |\n| 10-06-2019 | 62.41393 |\n| 11-06-2019 | 65.99240 |\n| 12-06-2019 | 61.80531 |\n\n",
            "text/latex": "A tibble: 7 × 2\n\\begin{tabular}{ll}\n Day & Mean\\_Humidity\\\\\n <chr> & <dbl>\\\\\n\\hline\n\t 06-06-2019 & 59.10067\\\\\n\t 07-06-2019 & 59.00000\\\\\n\t 08-06-2019 & 55.98387\\\\\n\t 09-06-2019 & 55.22407\\\\\n\t 10-06-2019 & 62.41393\\\\\n\t 11-06-2019 & 65.99240\\\\\n\t 12-06-2019 & 61.80531\\\\\n\\end{tabular}\n",
            "text/plain": [
              "  Day        Mean_Humidity\n",
              "1 06-06-2019 59.10067     \n",
              "2 07-06-2019 59.00000     \n",
              "3 08-06-2019 55.98387     \n",
              "4 09-06-2019 55.22407     \n",
              "5 10-06-2019 62.41393     \n",
              "6 11-06-2019 65.99240     \n",
              "7 12-06-2019 61.80531     "
            ]
          },
          "metadata": {}
        }
      ]
    },
    {
      "cell_type": "code",
      "source": [
        "# Oblicz odchylenie standardowe wilgotności dla każdego dnia\n",
        "odchylenie_std_wilgotnosci <- wilgotnosc %>%\n",
        "  group_by(Day) %>%\n",
        "  summarise(SD_Humidity = sd(Humidity, na.rm = TRUE))\n",
        "\n",
        "# Wyświetl wyniki\n",
        "odchylenie_std_wilgotnosci"
      ],
      "metadata": {
        "colab": {
          "base_uri": "https://localhost:8080/",
          "height": 318
        },
        "id": "TZBvBbZQPBj0",
        "outputId": "275429f7-e96d-4254-8f41-02bdff09638b"
      },
      "execution_count": 248,
      "outputs": [
        {
          "output_type": "display_data",
          "data": {
            "text/html": [
              "<table class=\"dataframe\">\n",
              "<caption>A tibble: 7 × 2</caption>\n",
              "<thead>\n",
              "\t<tr><th scope=col>Day</th><th scope=col>SD_Humidity</th></tr>\n",
              "\t<tr><th scope=col>&lt;chr&gt;</th><th scope=col>&lt;dbl&gt;</th></tr>\n",
              "</thead>\n",
              "<tbody>\n",
              "\t<tr><td>06-06-2019</td><td>4.200619</td></tr>\n",
              "\t<tr><td>07-06-2019</td><td>4.043293</td></tr>\n",
              "\t<tr><td>08-06-2019</td><td>3.549497</td></tr>\n",
              "\t<tr><td>09-06-2019</td><td>4.773146</td></tr>\n",
              "\t<tr><td>10-06-2019</td><td>8.921512</td></tr>\n",
              "\t<tr><td>11-06-2019</td><td>9.175137</td></tr>\n",
              "\t<tr><td>12-06-2019</td><td>4.230804</td></tr>\n",
              "</tbody>\n",
              "</table>\n"
            ],
            "text/markdown": "\nA tibble: 7 × 2\n\n| Day &lt;chr&gt; | SD_Humidity &lt;dbl&gt; |\n|---|---|\n| 06-06-2019 | 4.200619 |\n| 07-06-2019 | 4.043293 |\n| 08-06-2019 | 3.549497 |\n| 09-06-2019 | 4.773146 |\n| 10-06-2019 | 8.921512 |\n| 11-06-2019 | 9.175137 |\n| 12-06-2019 | 4.230804 |\n\n",
            "text/latex": "A tibble: 7 × 2\n\\begin{tabular}{ll}\n Day & SD\\_Humidity\\\\\n <chr> & <dbl>\\\\\n\\hline\n\t 06-06-2019 & 4.200619\\\\\n\t 07-06-2019 & 4.043293\\\\\n\t 08-06-2019 & 3.549497\\\\\n\t 09-06-2019 & 4.773146\\\\\n\t 10-06-2019 & 8.921512\\\\\n\t 11-06-2019 & 9.175137\\\\\n\t 12-06-2019 & 4.230804\\\\\n\\end{tabular}\n",
            "text/plain": [
              "  Day        SD_Humidity\n",
              "1 06-06-2019 4.200619   \n",
              "2 07-06-2019 4.043293   \n",
              "3 08-06-2019 3.549497   \n",
              "4 09-06-2019 4.773146   \n",
              "5 10-06-2019 8.921512   \n",
              "6 11-06-2019 9.175137   \n",
              "7 12-06-2019 4.230804   "
            ]
          },
          "metadata": {}
        }
      ]
    },
    {
      "cell_type": "markdown",
      "source": [
        "# Czy wilgotność zmieniała się na przestrzeni dni? *\n",
        "\n"
      ],
      "metadata": {
        "id": "rjL8iKaOPOlT"
      }
    },
    {
      "cell_type": "code",
      "source": [
        "# Test Shapiro-Wilka dla wilgotności\n",
        "shapiro.test(jajo$Humidity)"
      ],
      "metadata": {
        "colab": {
          "base_uri": "https://localhost:8080/",
          "height": 104
        },
        "id": "lVfiT-H-PNac",
        "outputId": "fe10a9cb-ac78-4e51-ab66-ecc4f77a6b93"
      },
      "execution_count": 249,
      "outputs": [
        {
          "output_type": "display_data",
          "data": {
            "text/plain": [
              "\n",
              "\tShapiro-Wilk normality test\n",
              "\n",
              "data:  jajo$Humidity\n",
              "W = 0.8858, p-value < 2.2e-16\n"
            ]
          },
          "metadata": {}
        }
      ]
    },
    {
      "cell_type": "code",
      "source": [
        "# Test Kruskala-Wallisa dla wilgotności w różne dni\n",
        "kruskal.test(jajo$Humidity, jajo$Day)"
      ],
      "metadata": {
        "colab": {
          "base_uri": "https://localhost:8080/",
          "height": 104
        },
        "id": "skQXojZWpbts",
        "outputId": "773da026-4887-4505-9597-32e72c8e58a7"
      },
      "execution_count": 250,
      "outputs": [
        {
          "output_type": "display_data",
          "data": {
            "text/plain": [
              "\n",
              "\tKruskal-Wallis rank sum test\n",
              "\n",
              "data:  jajo$Humidity and jajo$Day\n",
              "Kruskal-Wallis chi-squared = 432.54, df = 6, p-value < 2.2e-16\n"
            ]
          },
          "metadata": {}
        }
      ]
    },
    {
      "cell_type": "code",
      "source": [
        "# Test Wilcoxona dla porównań między dniami dla wilgotności\n",
        "pairwise.wilcox.test(jajo$Humidity, jajo$Day, p.adjust.method = \"bonferroni\")"
      ],
      "metadata": {
        "colab": {
          "base_uri": "https://localhost:8080/",
          "height": 260
        },
        "id": "l_I8e5vHp5us",
        "outputId": "68a60bd2-8b1d-4f90-ffd9-20830cd16f34"
      },
      "execution_count": 251,
      "outputs": [
        {
          "output_type": "display_data",
          "data": {
            "text/plain": [
              "\n",
              "\tPairwise comparisons using Wilcoxon rank sum test with continuity correction \n",
              "\n",
              "data:  jajo$Humidity and jajo$Day \n",
              "\n",
              "           06-06-2019 07-06-2019 08-06-2019 09-06-2019 10-06-2019 11-06-2019\n",
              "07-06-2019 1.00000    -          -          -          -          -         \n",
              "08-06-2019 1.3e-10    1.0e-13    -          -          -          -         \n",
              "09-06-2019 3.6e-16    < 2e-16    0.04913    -          -          -         \n",
              "10-06-2019 0.48621    0.17871    < 2e-16    < 2e-16    -          -         \n",
              "11-06-2019 1.9e-10    1.4e-14    < 2e-16    < 2e-16    0.00032    -         \n",
              "12-06-2019 1.1e-07    5.8e-13    < 2e-16    < 2e-16    0.00848    0.00721   \n",
              "\n",
              "P value adjustment method: bonferroni "
            ]
          },
          "metadata": {}
        }
      ]
    },
    {
      "cell_type": "markdown",
      "source": [
        "# Czy wilgotność zmieniała się na przestrzeni dnia? *\n",
        "\n"
      ],
      "metadata": {
        "id": "tFVa0zVdPQqD"
      }
    },
    {
      "cell_type": "code",
      "source": [
        "head(jajo)"
      ],
      "metadata": {
        "colab": {
          "base_uri": "https://localhost:8080/",
          "height": 286
        },
        "id": "nxlsshtYqD_N",
        "outputId": "d7aabc02-3c2a-4358-cc42-1679941fe41a"
      },
      "execution_count": 200,
      "outputs": [
        {
          "output_type": "display_data",
          "data": {
            "text/html": [
              "<table class=\"dataframe\">\n",
              "<caption>A data.frame: 6 × 9</caption>\n",
              "<thead>\n",
              "\t<tr><th></th><th scope=col>Day</th><th scope=col>Time.hh.mm.ss.</th><th scope=col>Temp1.C.</th><th scope=col>Temp2.C.</th><th scope=col>Temp3.C.</th><th scope=col>Temp4.C.</th><th scope=col>Humidity</th><th scope=col>Time_Category</th><th scope=col>Hour</th></tr>\n",
              "\t<tr><th></th><th scope=col>&lt;chr&gt;</th><th scope=col>&lt;chr&gt;</th><th scope=col>&lt;dbl&gt;</th><th scope=col>&lt;dbl&gt;</th><th scope=col>&lt;dbl&gt;</th><th scope=col>&lt;dbl&gt;</th><th scope=col>&lt;dbl&gt;</th><th scope=col>&lt;chr&gt;</th><th scope=col>&lt;dbl&gt;</th></tr>\n",
              "</thead>\n",
              "<tbody>\n",
              "\t<tr><th scope=row>1</th><td>06-06-2019</td><td>07:43:52</td><td>32.2</td><td>31.6</td><td>37.0</td><td>37.9</td><td>68</td><td>Poranek</td><td>7</td></tr>\n",
              "\t<tr><th scope=row>2</th><td>06-06-2019</td><td>07:48:52</td><td>32.1</td><td>31.4</td><td>35.3</td><td>37.3</td><td>67</td><td>Poranek</td><td>7</td></tr>\n",
              "\t<tr><th scope=row>3</th><td>06-06-2019</td><td>07:53:52</td><td>32.4</td><td>30.9</td><td>34.8</td><td>37.5</td><td>71</td><td>Poranek</td><td>7</td></tr>\n",
              "\t<tr><th scope=row>4</th><td>06-06-2019</td><td>07:58:52</td><td>32.5</td><td>30.8</td><td>34.8</td><td>37.5</td><td>71</td><td>Poranek</td><td>7</td></tr>\n",
              "\t<tr><th scope=row>5</th><td>06-06-2019</td><td>08:03:52</td><td>32.7</td><td>31.1</td><td>34.6</td><td>37.3</td><td>70</td><td>Poranek</td><td>8</td></tr>\n",
              "\t<tr><th scope=row>6</th><td>06-06-2019</td><td>08:08:52</td><td>32.6</td><td>30.9</td><td>34.7</td><td>37.3</td><td>68</td><td>Poranek</td><td>8</td></tr>\n",
              "</tbody>\n",
              "</table>\n"
            ],
            "text/markdown": "\nA data.frame: 6 × 9\n\n| <!--/--> | Day &lt;chr&gt; | Time.hh.mm.ss. &lt;chr&gt; | Temp1.C. &lt;dbl&gt; | Temp2.C. &lt;dbl&gt; | Temp3.C. &lt;dbl&gt; | Temp4.C. &lt;dbl&gt; | Humidity &lt;dbl&gt; | Time_Category &lt;chr&gt; | Hour &lt;dbl&gt; |\n|---|---|---|---|---|---|---|---|---|---|\n| 1 | 06-06-2019 | 07:43:52 | 32.2 | 31.6 | 37.0 | 37.9 | 68 | Poranek | 7 |\n| 2 | 06-06-2019 | 07:48:52 | 32.1 | 31.4 | 35.3 | 37.3 | 67 | Poranek | 7 |\n| 3 | 06-06-2019 | 07:53:52 | 32.4 | 30.9 | 34.8 | 37.5 | 71 | Poranek | 7 |\n| 4 | 06-06-2019 | 07:58:52 | 32.5 | 30.8 | 34.8 | 37.5 | 71 | Poranek | 7 |\n| 5 | 06-06-2019 | 08:03:52 | 32.7 | 31.1 | 34.6 | 37.3 | 70 | Poranek | 8 |\n| 6 | 06-06-2019 | 08:08:52 | 32.6 | 30.9 | 34.7 | 37.3 | 68 | Poranek | 8 |\n\n",
            "text/latex": "A data.frame: 6 × 9\n\\begin{tabular}{r|lllllllll}\n  & Day & Time.hh.mm.ss. & Temp1.C. & Temp2.C. & Temp3.C. & Temp4.C. & Humidity & Time\\_Category & Hour\\\\\n  & <chr> & <chr> & <dbl> & <dbl> & <dbl> & <dbl> & <dbl> & <chr> & <dbl>\\\\\n\\hline\n\t1 & 06-06-2019 & 07:43:52 & 32.2 & 31.6 & 37.0 & 37.9 & 68 & Poranek & 7\\\\\n\t2 & 06-06-2019 & 07:48:52 & 32.1 & 31.4 & 35.3 & 37.3 & 67 & Poranek & 7\\\\\n\t3 & 06-06-2019 & 07:53:52 & 32.4 & 30.9 & 34.8 & 37.5 & 71 & Poranek & 7\\\\\n\t4 & 06-06-2019 & 07:58:52 & 32.5 & 30.8 & 34.8 & 37.5 & 71 & Poranek & 7\\\\\n\t5 & 06-06-2019 & 08:03:52 & 32.7 & 31.1 & 34.6 & 37.3 & 70 & Poranek & 8\\\\\n\t6 & 06-06-2019 & 08:08:52 & 32.6 & 30.9 & 34.7 & 37.3 & 68 & Poranek & 8\\\\\n\\end{tabular}\n",
            "text/plain": [
              "  Day        Time.hh.mm.ss. Temp1.C. Temp2.C. Temp3.C. Temp4.C. Humidity\n",
              "1 06-06-2019 07:43:52       32.2     31.6     37.0     37.9     68      \n",
              "2 06-06-2019 07:48:52       32.1     31.4     35.3     37.3     67      \n",
              "3 06-06-2019 07:53:52       32.4     30.9     34.8     37.5     71      \n",
              "4 06-06-2019 07:58:52       32.5     30.8     34.8     37.5     71      \n",
              "5 06-06-2019 08:03:52       32.7     31.1     34.6     37.3     70      \n",
              "6 06-06-2019 08:08:52       32.6     30.9     34.7     37.3     68      \n",
              "  Time_Category Hour\n",
              "1 Poranek       7   \n",
              "2 Poranek       7   \n",
              "3 Poranek       7   \n",
              "4 Poranek       7   \n",
              "5 Poranek       8   \n",
              "6 Poranek       8   "
            ]
          },
          "metadata": {}
        }
      ]
    },
    {
      "cell_type": "code",
      "source": [
        "# Test normalności dla wilgotności w poszczególnych porach dnia\n",
        "shapiro_test_morning <- shapiro.test(jajo$Humidity[jajo$Time_Category == \"Poranek\"])\n",
        "shapiro_test_afternoon <- shapiro.test(jajo$Humidity[jajo$Time_Category == \"Popołudnie\"])\n",
        "shapiro_test_evening <- shapiro.test(jajo$Humidity[jajo$Time_Category == \"Wieczór\"])\n",
        "shapiro_test_night <- shapiro.test(jajo$Humidity[jajo$Time_Category == \"Noc\"])\n",
        "\n",
        "# Wyświetlenie wyników testu Shapiro-Wilka\n",
        "print(shapiro_test_morning)\n",
        "print(shapiro_test_afternoon)\n",
        "print(shapiro_test_evening)\n",
        "print(shapiro_test_night)"
      ],
      "metadata": {
        "colab": {
          "base_uri": "https://localhost:8080/"
        },
        "id": "HBZvYMg5qWdl",
        "outputId": "a23a001b-1e09-479a-fd2b-7daf5928527d"
      },
      "execution_count": 204,
      "outputs": [
        {
          "output_type": "stream",
          "name": "stdout",
          "text": [
            "\n",
            "\tShapiro-Wilk normality test\n",
            "\n",
            "data:  jajo$Humidity[jajo$Time_Category == \"Poranek\"]\n",
            "W = 0.90183, p-value = 1.052e-14\n",
            "\n",
            "\n",
            "\tShapiro-Wilk normality test\n",
            "\n",
            "data:  jajo$Humidity[jajo$Time_Category == \"Popołudnie\"]\n",
            "W = 0.97858, p-value = 6.476e-05\n",
            "\n",
            "\n",
            "\tShapiro-Wilk normality test\n",
            "\n",
            "data:  jajo$Humidity[jajo$Time_Category == \"Wieczór\"]\n",
            "W = 0.80418, p-value < 2.2e-16\n",
            "\n",
            "\n",
            "\tShapiro-Wilk normality test\n",
            "\n",
            "data:  jajo$Humidity[jajo$Time_Category == \"Noc\"]\n",
            "W = 0.85725, p-value < 2.2e-16\n",
            "\n"
          ]
        }
      ]
    },
    {
      "cell_type": "code",
      "source": [
        "# Przeprowadzenie testu Kruskala-Wallisa dla wilgotności w różnych porach dnia\n",
        "kruskal_test_humidity <- kruskal.test(jajo$Humidity, jajo$Time_Category)\n",
        "\n",
        "# Wyświetlenie wyników testu Kruskala-Wallisa\n",
        "print(kruskal_test_humidity)"
      ],
      "metadata": {
        "colab": {
          "base_uri": "https://localhost:8080/"
        },
        "id": "TG39RHq9q1OT",
        "outputId": "a9536b3b-47c0-49b0-c20d-aef375ecb30f"
      },
      "execution_count": 252,
      "outputs": [
        {
          "output_type": "stream",
          "name": "stdout",
          "text": [
            "\n",
            "\tKruskal-Wallis rank sum test\n",
            "\n",
            "data:  jajo$Humidity and jajo$Time_Category\n",
            "Kruskal-Wallis chi-squared = 78.237, df = 3, p-value < 2.2e-16\n",
            "\n"
          ]
        }
      ]
    },
    {
      "cell_type": "code",
      "source": [
        "# Przeprowadzenie testu Wilcoxona dla porównań między poszczególnymi porami dnia dla zmiennej wilgotności\n",
        "pairwise_wilcox_test_humidity <- pairwise.wilcox.test(jajo$Humidity, jajo$Time_Category, p.adjust.method = \"bonferroni\")\n",
        "\n",
        "# Wyświetlenie wyników testu Wilcoxona\n",
        "print(pairwise_wilcox_test_humidity)"
      ],
      "metadata": {
        "colab": {
          "base_uri": "https://localhost:8080/"
        },
        "id": "kX7lVxJirBCt",
        "outputId": "3e832d86-2fe6-44a4-b4c8-3cd3aa73a894"
      },
      "execution_count": 253,
      "outputs": [
        {
          "output_type": "stream",
          "name": "stdout",
          "text": [
            "\n",
            "\tPairwise comparisons using Wilcoxon rank sum test with continuity correction \n",
            "\n",
            "data:  jajo$Humidity and jajo$Time_Category \n",
            "\n",
            "           Noc     Popołudnie Poranek\n",
            "Popołudnie 1       -          -      \n",
            "Poranek    1       1          -      \n",
            "Wieczór    7.9e-11 2.3e-16    1.5e-07\n",
            "\n",
            "P value adjustment method: bonferroni \n"
          ]
        }
      ]
    }
  ]
}